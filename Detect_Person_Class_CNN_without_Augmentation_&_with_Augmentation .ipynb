{
  "nbformat": 4,
  "nbformat_minor": 0,
  "metadata": {
    "colab": {
      "name": "Detect-Person-Class(Collage project).ipynb",
      "provenance": [],
      "include_colab_link": true
    },
    "kernelspec": {
      "name": "python3",
      "display_name": "Python 3"
    },
    "language_info": {
      "name": "python"
    },
    "accelerator": "TPU"
  },
  "cells": [
    {
      "cell_type": "markdown",
      "metadata": {
        "id": "view-in-github",
        "colab_type": "text"
      },
      "source": [
        "<a href=\"https://colab.research.google.com/github/FSDAwaesf/Detect-Person-Class-from-img-Collage-project/blob/main/Detect_Person_Class_CNN_without_Augmentation_%26_with_Augmentation%20.ipynb\" target=\"_parent\"><img src=\"https://colab.research.google.com/assets/colab-badge.svg\" alt=\"Open In Colab\"/></a>"
      ]
    },
    {
      "cell_type": "markdown",
      "source": [
        "#needed libraries"
      ],
      "metadata": {
        "id": "Ft8yVwkjtvBP"
      }
    },
    {
      "cell_type": "code",
      "source": [
        "from google.colab import drive\n",
        "drive.mount('/content/drive')"
      ],
      "metadata": {
        "colab": {
          "base_uri": "https://localhost:8080/"
        },
        "id": "3XDlXCsviZg6",
        "outputId": "296108bc-2a51-4247-e63b-8d0375148709"
      },
      "execution_count": null,
      "outputs": [
        {
          "output_type": "stream",
          "name": "stdout",
          "text": [
            "Drive already mounted at /content/drive; to attempt to forcibly remount, call drive.mount(\"/content/drive\", force_remount=True).\n"
          ]
        }
      ]
    },
    {
      "cell_type": "code",
      "execution_count": null,
      "metadata": {
        "id": "SeVSZpwSp0tm"
      },
      "outputs": [],
      "source": [
        "import numpy as np\n",
        "import pandas as pd\n",
        "import os\n",
        "import random \n",
        "import matplotlib.pyplot as plt\n",
        "import seaborn as sns\n",
        "from sklearn.model_selection import train_test_split\n",
        "import cv2\n"
      ]
    },
    {
      "cell_type": "markdown",
      "source": [
        "#data path and number of classes"
      ],
      "metadata": {
        "id": "d6oCkM9ht3ga"
      }
    },
    {
      "cell_type": "code",
      "source": [
        "data_path = '/content/drive/MyDrive/Faces data/CroppedYale'\n",
        "len(os.listdir(data_path))"
      ],
      "metadata": {
        "colab": {
          "base_uri": "https://localhost:8080/"
        },
        "id": "xMzMIIXXkmBz",
        "outputId": "d9adc37e-c181-4b03-f589-e24ab7c52c0f"
      },
      "execution_count": null,
      "outputs": [
        {
          "output_type": "execute_result",
          "data": {
            "text/plain": [
              "38"
            ]
          },
          "metadata": {},
          "execution_count": 3
        }
      ]
    },
    {
      "cell_type": "markdown",
      "source": [
        "#Create lists that contain images and its labels"
      ],
      "metadata": {
        "id": "p-TUQbFbt8GB"
      }
    },
    {
      "cell_type": "code",
      "source": [
        "def read_img(path):\n",
        "  files_names = os.listdir(path) \n",
        "  imgs = []\n",
        "  target = []\n",
        "  for i in files_names:\n",
        "    for j in os.listdir(path+'/'+i):\n",
        "      if '.pgm' in j:\n",
        "        img = cv2.imread(path+'/'+i+'/'+j)\n",
        "        imgs.append(img)\n",
        "        target.append(i)\n",
        "  return imgs,target"
      ],
      "metadata": {
        "id": "kgwGEU0qqgeu"
      },
      "execution_count": null,
      "outputs": []
    },
    {
      "cell_type": "markdown",
      "source": [
        "#X ==> Images\n",
        "#y ==> labels"
      ],
      "metadata": {
        "id": "vyeaVt623EBX"
      }
    },
    {
      "cell_type": "code",
      "source": [
        "from sklearn.model_selection import train_test_split\n",
        "X,y = read_img(data_path)\n"
      ],
      "metadata": {
        "id": "gSowRGo1rxpI"
      },
      "execution_count": null,
      "outputs": []
    },
    {
      "cell_type": "code",
      "source": [
        "X = np.array(X)\n",
        "y = np.array(y).reshape(-1,1)"
      ],
      "metadata": {
        "id": "bo9HuY_1-F5_",
        "colab": {
          "base_uri": "https://localhost:8080/"
        },
        "outputId": "310ea932-1022-4bd4-c3df-abc6df961fc4"
      },
      "execution_count": null,
      "outputs": [
        {
          "output_type": "stream",
          "name": "stderr",
          "text": [
            "/usr/local/lib/python3.7/dist-packages/ipykernel_launcher.py:1: VisibleDeprecationWarning: Creating an ndarray from ragged nested sequences (which is a list-or-tuple of lists-or-tuples-or ndarrays with different lengths or shapes) is deprecated. If you meant to do this, you must specify 'dtype=object' when creating the ndarray.\n",
            "  \"\"\"Entry point for launching an IPython kernel.\n"
          ]
        }
      ]
    },
    {
      "cell_type": "markdown",
      "source": [
        "#all images size = (192,168)"
      ],
      "metadata": {
        "id": "atIEwIyM3JxH"
      }
    },
    {
      "cell_type": "code",
      "source": [
        "def resize_images(images):\n",
        "  imgs = []\n",
        "  images1 = np.asarray(images)\n",
        "  for i in images1:\n",
        "    img = cv2.resize(i,(168, 192))\n",
        "    imgs.append(img)\n",
        "\n",
        "  return imgs"
      ],
      "metadata": {
        "id": "_pdCBxJQ0R1L"
      },
      "execution_count": null,
      "outputs": []
    },
    {
      "cell_type": "code",
      "source": [
        "images = resize_images(X)\n",
        "images[1].shape"
      ],
      "metadata": {
        "id": "h4HCjx662pVe",
        "colab": {
          "base_uri": "https://localhost:8080/"
        },
        "outputId": "ff9a7810-6d54-4347-aa9e-b37e41954353"
      },
      "execution_count": null,
      "outputs": [
        {
          "output_type": "execute_result",
          "data": {
            "text/plain": [
              "(192, 168, 3)"
            ]
          },
          "metadata": {},
          "execution_count": 8
        }
      ]
    },
    {
      "cell_type": "code",
      "source": [
        "plt.imshow(X[20])"
      ],
      "metadata": {
        "id": "K5dlsFszr0n9",
        "outputId": "6ebcf413-bc2c-4b8a-ec52-b8b695f0fd00",
        "colab": {
          "base_uri": "https://localhost:8080/",
          "height": 287
        }
      },
      "execution_count": null,
      "outputs": [
        {
          "output_type": "execute_result",
          "data": {
            "text/plain": [
              "<matplotlib.image.AxesImage at 0x7f5d764315d0>"
            ]
          },
          "metadata": {},
          "execution_count": 9
        },
        {
          "output_type": "display_data",
          "data": {
            "text/plain": [
              "<Figure size 432x288 with 1 Axes>"
            ],
            "image/png": "[encoded data removed]"
          },
          "metadata": {
            "needs_background": "light"
          }
        }
      ]
    },
    {
      "cell_type": "markdown",
      "source": [
        "#Splitting data to 90% train and 10% test"
      ],
      "metadata": {
        "id": "vzL1wH_-uSeN"
      }
    },
    {
      "cell_type": "code",
      "source": [
        "X_train, X_test, y_train, y_test =train_test_split(images,y,test_size=0.1,shuffle=True,random_state=1)\n",
        "X_train = np.array(X_train)\n",
        "X_test = np.array(X_test)\n",
        "y_train = np.array(y_train)\n",
        "y_test = np.array(y_test)"
      ],
      "metadata": {
        "id": "7TRALN1Y-xqx"
      },
      "execution_count": null,
      "outputs": []
    },
    {
      "cell_type": "code",
      "source": [
        "X_train.shape"
      ],
      "metadata": {
        "colab": {
          "base_uri": "https://localhost:8080/"
        },
        "id": "329J4QUfDJoo",
        "outputId": "28a76188-f9d9-4414-99d0-323d1e66d328"
      },
      "execution_count": null,
      "outputs": [
        {
          "output_type": "execute_result",
          "data": {
            "text/plain": [
              "(2223, 192, 168, 3)"
            ]
          },
          "metadata": {},
          "execution_count": 11
        }
      ]
    },
    {
      "cell_type": "code",
      "source": [
        "y_train"
      ],
      "metadata": {
        "colab": {
          "base_uri": "https://localhost:8080/"
        },
        "id": "C4itmT8E_q8T",
        "outputId": "013ae308-a54a-414a-e1e2-c322e183fc1c"
      },
      "execution_count": null,
      "outputs": [
        {
          "output_type": "execute_result",
          "data": {
            "text/plain": [
              "array([['yaleB13'],\n",
              "       ['yaleB10'],\n",
              "       ['yaleB12'],\n",
              "       ...,\n",
              "       ['yaleB12'],\n",
              "       ['yaleB08'],\n",
              "       ['yaleB12']], dtype='<U7')"
            ]
          },
          "metadata": {},
          "execution_count": 12
        }
      ]
    },
    {
      "cell_type": "markdown",
      "source": [
        "#CNN Model 1 ( without augmentation)\n",
        "\n"
      ],
      "metadata": {
        "id": "mWyzivh05pTu"
      }
    },
    {
      "cell_type": "code",
      "source": [
        "from tensorflow.keras import Sequential\n",
        "from tensorflow.keras.layers import Dense,Conv2D,Dropout,Activation,MaxPool2D,Flatten"
      ],
      "metadata": {
        "id": "1STtNY4i4jyx"
      },
      "execution_count": null,
      "outputs": []
    },
    {
      "cell_type": "code",
      "source": [
        "model=Sequential()\n",
        "model.add(Conv2D(filters=16,kernel_size=(3,3),activation='relu',input_shape=(192,168,3)))\n",
        "model.add(MaxPool2D((2,2)))\n",
        "\n",
        "model.add(Conv2D(32,(3,3),activation='relu'))\n",
        "model.add(MaxPool2D((2,2)))\n",
        "\n",
        "model.add(Conv2D(16,(3,3),activation='relu'))\n",
        "model.add(MaxPool2D((2,2)))\n",
        "\n",
        "model.add(Flatten())\n",
        "\n",
        "model.add(Dense(1024,activation='relu'))\n",
        "model.add(Dense(units=38,activation='softmax'))\n",
        "\n",
        "model.summary()"
      ],
      "metadata": {
        "id": "q0NQ7gwW63Nh",
        "outputId": "2c9bd9a0-4a61-4488-e929-8bdc8669cc7c",
        "colab": {
          "base_uri": "https://localhost:8080/"
        }
      },
      "execution_count": null,
      "outputs": [
        {
          "output_type": "stream",
          "name": "stdout",
          "text": [
            "Model: \"sequential\"\n",
            "_________________________________________________________________\n",
            " Layer (type)                Output Shape              Param #   \n",
            "=================================================================\n",
            " conv2d (Conv2D)             (None, 190, 166, 16)      448       \n",
            "                                                                 \n",
            " max_pooling2d (MaxPooling2D  (None, 95, 83, 16)       0         \n",
            " )                                                               \n",
            "                                                                 \n",
            " conv2d_1 (Conv2D)           (None, 93, 81, 32)        4640      \n",
            "                                                                 \n",
            " max_pooling2d_1 (MaxPooling  (None, 46, 40, 32)       0         \n",
            " 2D)                                                             \n",
            "                                                                 \n",
            " conv2d_2 (Conv2D)           (None, 44, 38, 16)        4624      \n",
            "                                                                 \n",
            " max_pooling2d_2 (MaxPooling  (None, 22, 19, 16)       0         \n",
            " 2D)                                                             \n",
            "                                                                 \n",
            " flatten (Flatten)           (None, 6688)              0         \n",
            "                                                                 \n",
            " dense (Dense)               (None, 1024)              6849536   \n",
            "                                                                 \n",
            " dense_1 (Dense)             (None, 38)                38950     \n",
            "                                                                 \n",
            "=================================================================\n",
            "Total params: 6,898,198\n",
            "Trainable params: 6,898,198\n",
            "Non-trainable params: 0\n",
            "_________________________________________________________________\n"
          ]
        }
      ]
    },
    {
      "cell_type": "code",
      "source": [
        "model.compile(optimizer='adam',loss='categorical_crossentropy',metrics=['accuracy'])"
      ],
      "metadata": {
        "id": "Nboo0snF7UIn"
      },
      "execution_count": null,
      "outputs": []
    },
    {
      "cell_type": "code",
      "source": [
        "from tensorflow.keras.preprocessing.image import ImageDataGenerator"
      ],
      "metadata": {
        "id": "4l38XWZi9u8G"
      },
      "execution_count": null,
      "outputs": []
    },
    {
      "cell_type": "code",
      "source": [
        "from sklearn.preprocessing import LabelEncoder\n",
        "lb = LabelEncoder()\n",
        "y_train = lb.fit_transform(y_train)\n",
        "y_test = lb.fit_transform(y_test)"
      ],
      "metadata": {
        "colab": {
          "base_uri": "https://localhost:8080/"
        },
        "id": "qkou_qhzTT9D",
        "outputId": "bbf9e74d-548e-4318-cea2-66ac34a232f3"
      },
      "execution_count": null,
      "outputs": [
        {
          "output_type": "stream",
          "name": "stderr",
          "text": [
            "/usr/local/lib/python3.7/dist-packages/sklearn/preprocessing/_label.py:115: DataConversionWarning: A column-vector y was passed when a 1d array was expected. Please change the shape of y to (n_samples, ), for example using ravel().\n",
            "  y = column_or_1d(y, warn=True)\n"
          ]
        }
      ]
    },
    {
      "cell_type": "code",
      "source": [
        "from tensorflow.keras.utils import to_categorical\n",
        "y_train = to_categorical(y_train)\n",
        "y_test = to_categorical(y_test)\n",
        "\n",
        "y_test.shape"
      ],
      "metadata": {
        "colab": {
          "base_uri": "https://localhost:8080/"
        },
        "id": "I6JXTdbzUaTs",
        "outputId": "5c7efd4d-ce15-4826-9281-82c63071a791"
      },
      "execution_count": null,
      "outputs": [
        {
          "output_type": "execute_result",
          "data": {
            "text/plain": [
              "(247, 38)"
            ]
          },
          "metadata": {},
          "execution_count": 18
        }
      ]
    },
    {
      "cell_type": "code",
      "source": [
        "X_train.shape"
      ],
      "metadata": {
        "colab": {
          "base_uri": "https://localhost:8080/"
        },
        "id": "AtI0W68qGWk4",
        "outputId": "04d9043b-abe6-47d4-9167-ca854529f501"
      },
      "execution_count": null,
      "outputs": [
        {
          "output_type": "execute_result",
          "data": {
            "text/plain": [
              "(2223, 192, 168, 3)"
            ]
          },
          "metadata": {},
          "execution_count": 19
        }
      ]
    },
    {
      "cell_type": "code",
      "source": [
        "train_gen = ImageDataGenerator()\n",
        "valid_gen = ImageDataGenerator()"
      ],
      "metadata": {
        "id": "OEQw3t-F-TkP"
      },
      "execution_count": null,
      "outputs": []
    },
    {
      "cell_type": "code",
      "source": [
        "X_train, X_valid, y_train, y_valid =train_test_split(X_train,y_train,test_size=0.1,shuffle=True,random_state=1)\n",
        "X_valid.shape"
      ],
      "metadata": {
        "id": "vSw0BpJNQ-t7",
        "colab": {
          "base_uri": "https://localhost:8080/"
        },
        "outputId": "61bf5042-9d3c-4ac9-efcf-688e95322a63"
      },
      "execution_count": null,
      "outputs": [
        {
          "output_type": "execute_result",
          "data": {
            "text/plain": [
              "(223, 192, 168, 3)"
            ]
          },
          "metadata": {},
          "execution_count": 21
        }
      ]
    },
    {
      "cell_type": "code",
      "source": [
        "trainG = train_gen.flow(X_train,y_train,batch_size=32)\n",
        "validG = valid_gen.flow(X_valid,y_valid,batch_size=8)"
      ],
      "metadata": {
        "id": "T1Gbhk5jJe03"
      },
      "execution_count": null,
      "outputs": []
    },
    {
      "cell_type": "code",
      "source": [
        "steps_train = int(len(X_train)/32)\n",
        "steps_validate = int(len(X_valid)/8)"
      ],
      "metadata": {
        "id": "RnlJ540jyFNo"
      },
      "execution_count": null,
      "outputs": []
    },
    {
      "cell_type": "code",
      "source": [
        "history = model.fit_generator(trainG,\n",
        "                                  steps_per_epoch=steps_train, \n",
        "                                  epochs=25,\n",
        "                                  validation_data=validG,\n",
        "                                  validation_steps=steps_validate,\n",
        "                                  verbose=1,\n",
        "                                  shuffle = 1)"
      ],
      "metadata": {
        "id": "Y3f4-b_o-b2r",
        "outputId": "703a9276-7622-4682-a0e1-f0b8247db7ed",
        "colab": {
          "base_uri": "https://localhost:8080/"
        }
      },
      "execution_count": null,
      "outputs": [
        {
          "output_type": "stream",
          "name": "stdout",
          "text": [
            "Epoch 1/25\n"
          ]
        },
        {
          "output_type": "stream",
          "name": "stderr",
          "text": [
            "/usr/local/lib/python3.7/dist-packages/ipykernel_launcher.py:7: UserWarning: `Model.fit_generator` is deprecated and will be removed in a future version. Please use `Model.fit`, which supports generators.\n",
            "  import sys\n"
          ]
        },
        {
          "output_type": "stream",
          "name": "stdout",
          "text": [
            "62/62 [==============================] - 51s 809ms/step - loss: 6.9282 - accuracy: 0.2993 - val_loss: 0.8353 - val_accuracy: 0.8102\n",
            "Epoch 2/25\n",
            "62/62 [==============================] - 50s 811ms/step - loss: 0.2970 - accuracy: 0.9350 - val_loss: 0.3317 - val_accuracy: 0.9120\n",
            "Epoch 3/25\n",
            "62/62 [==============================] - 50s 806ms/step - loss: 0.0817 - accuracy: 0.9832 - val_loss: 0.3410 - val_accuracy: 0.9028\n",
            "Epoch 4/25\n",
            "62/62 [==============================] - 50s 805ms/step - loss: 0.0566 - accuracy: 0.9873 - val_loss: 0.4279 - val_accuracy: 0.8796\n",
            "Epoch 5/25\n",
            "62/62 [==============================] - 50s 805ms/step - loss: 0.0366 - accuracy: 0.9929 - val_loss: 0.3728 - val_accuracy: 0.8889\n",
            "Epoch 6/25\n",
            "62/62 [==============================] - 50s 808ms/step - loss: 0.0305 - accuracy: 0.9934 - val_loss: 0.4534 - val_accuracy: 0.9120\n",
            "Epoch 7/25\n",
            "62/62 [==============================] - 56s 908ms/step - loss: 0.1233 - accuracy: 0.9751 - val_loss: 0.3367 - val_accuracy: 0.9213\n",
            "Epoch 8/25\n",
            "62/62 [==============================] - 52s 847ms/step - loss: 0.1458 - accuracy: 0.9690 - val_loss: 0.3653 - val_accuracy: 0.9028\n",
            "Epoch 9/25\n",
            "62/62 [==============================] - 50s 808ms/step - loss: 0.0493 - accuracy: 0.9878 - val_loss: 0.2386 - val_accuracy: 0.9491\n",
            "Epoch 10/25\n",
            "62/62 [==============================] - 50s 806ms/step - loss: 0.0178 - accuracy: 0.9970 - val_loss: 0.2759 - val_accuracy: 0.9352\n",
            "Epoch 11/25\n",
            "62/62 [==============================] - 50s 808ms/step - loss: 0.0252 - accuracy: 0.9959 - val_loss: 0.2550 - val_accuracy: 0.9491\n",
            "Epoch 12/25\n",
            "62/62 [==============================] - 50s 809ms/step - loss: 0.0093 - accuracy: 0.9980 - val_loss: 0.1916 - val_accuracy: 0.9537\n",
            "Epoch 13/25\n",
            "62/62 [==============================] - 50s 806ms/step - loss: 0.0080 - accuracy: 0.9990 - val_loss: 0.2424 - val_accuracy: 0.9491\n",
            "Epoch 14/25\n",
            "62/62 [==============================] - 50s 806ms/step - loss: 0.0416 - accuracy: 0.9929 - val_loss: 0.4360 - val_accuracy: 0.9074\n",
            "Epoch 15/25\n",
            "62/62 [==============================] - 50s 807ms/step - loss: 0.0685 - accuracy: 0.9842 - val_loss: 0.6261 - val_accuracy: 0.8657\n",
            "Epoch 16/25\n",
            "62/62 [==============================] - 50s 806ms/step - loss: 0.1057 - accuracy: 0.9756 - val_loss: 0.1382 - val_accuracy: 0.9630\n",
            "Epoch 17/25\n",
            "62/62 [==============================] - 50s 806ms/step - loss: 0.0242 - accuracy: 0.9939 - val_loss: 0.1579 - val_accuracy: 0.9676\n",
            "Epoch 18/25\n",
            "62/62 [==============================] - 50s 809ms/step - loss: 0.0163 - accuracy: 0.9949 - val_loss: 0.2378 - val_accuracy: 0.9630\n",
            "Epoch 19/25\n",
            "62/62 [==============================] - 50s 808ms/step - loss: 0.0089 - accuracy: 0.9990 - val_loss: 0.2135 - val_accuracy: 0.9583\n",
            "Epoch 20/25\n",
            "62/62 [==============================] - 50s 805ms/step - loss: 6.6297e-04 - accuracy: 1.0000 - val_loss: 0.2247 - val_accuracy: 0.9676\n",
            "Epoch 21/25\n",
            "62/62 [==============================] - 50s 804ms/step - loss: 2.7132e-04 - accuracy: 1.0000 - val_loss: 0.2273 - val_accuracy: 0.9676\n",
            "Epoch 22/25\n",
            "62/62 [==============================] - 50s 805ms/step - loss: 1.8733e-04 - accuracy: 1.0000 - val_loss: 0.2283 - val_accuracy: 0.9676\n",
            "Epoch 23/25\n",
            "62/62 [==============================] - 50s 805ms/step - loss: 1.3062e-04 - accuracy: 1.0000 - val_loss: 0.2307 - val_accuracy: 0.9676\n",
            "Epoch 24/25\n",
            "62/62 [==============================] - 50s 804ms/step - loss: 1.1951e-04 - accuracy: 1.0000 - val_loss: 0.2095 - val_accuracy: 0.9722\n",
            "Epoch 25/25\n",
            "62/62 [==============================] - 50s 805ms/step - loss: 9.9616e-05 - accuracy: 1.0000 - val_loss: 0.2317 - val_accuracy: 0.9676\n"
          ]
        }
      ]
    },
    {
      "cell_type": "markdown",
      "source": [
        "#**Overfitted** from epoch number 2, we trained it for 25 epoch to make sure it's not in local minima."
      ],
      "metadata": {
        "id": "kcroy6sZSue4"
      }
    },
    {
      "cell_type": "code",
      "source": [
        "plt.plot(history.history['loss'])\n",
        "plt.plot(history.history['val_loss'])\n",
        "plt.legend(['training_Loss','Val_Loss'])\n",
        "plt.title('Loss')\n",
        "plt.xlabel('epochs')"
      ],
      "metadata": {
        "id": "ZI-oBfcKMs0X",
        "colab": {
          "base_uri": "https://localhost:8080/",
          "height": 314
        },
        "outputId": "9e17fd1e-1fd8-4aaa-fc70-c6e0179fa542"
      },
      "execution_count": null,
      "outputs": [
        {
          "output_type": "execute_result",
          "data": {
            "text/plain": [
              "Text(0.5, 0, 'epochs')"
            ]
          },
          "metadata": {},
          "execution_count": 26
        },
        {
          "output_type": "display_data",
          "data": {
            "text/plain": [
              "<Figure size 432x288 with 1 Axes>"
            ],
            "image/png": "[encoded data removed]"
          },
          "metadata": {
            "needs_background": "light"
          }
        }
      ]
    },
    {
      "cell_type": "code",
      "source": [
        "plt.plot(history.history['accuracy'])\n",
        "plt.plot(history.history['val_accuracy'])\n",
        "plt.legend(['training_accuracy','Val_accuracy'])\n",
        "plt.title('accuracy')\n",
        "plt.xlabel('epochs')"
      ],
      "metadata": {
        "colab": {
          "base_uri": "https://localhost:8080/",
          "height": 314
        },
        "id": "9yKdqWfyNMg6",
        "outputId": "085d7355-a8b8-4d9f-ac96-c782e47843d6"
      },
      "execution_count": null,
      "outputs": [
        {
          "output_type": "execute_result",
          "data": {
            "text/plain": [
              "Text(0.5, 0, 'epochs')"
            ]
          },
          "metadata": {},
          "execution_count": 27
        },
        {
          "output_type": "display_data",
          "data": {
            "text/plain": [
              "<Figure size 432x288 with 1 Axes>"
            ],
            "image/png": "[encoded data removed]"
          },
          "metadata": {
            "needs_background": "light"
          }
        }
      ]
    },
    {
      "cell_type": "code",
      "source": [
        "test_loss, test_acc = model.evaluate(X_test,y_test, verbose=2)\n",
        "print(\"test accurecy without augmentation\")\n",
        "print(test_acc)"
      ],
      "metadata": {
        "colab": {
          "base_uri": "https://localhost:8080/"
        },
        "id": "AQeDM5yg9iMD",
        "outputId": "cef43af1-6522-438a-bf9b-0bfb135bc1c2"
      },
      "execution_count": null,
      "outputs": [
        {
          "output_type": "stream",
          "name": "stdout",
          "text": [
            "8/8 - 2s - loss: 0.1171 - accuracy: 0.9717 - 2s/epoch - 232ms/step\n",
            "test accurecy without augmentation\n",
            "0.9716598987579346\n"
          ]
        }
      ]
    },
    {
      "cell_type": "markdown",
      "source": [
        "#CNN Model 1 ( with **augmentation**)\n",
        "\n"
      ],
      "metadata": {
        "id": "1K5zc24-TPiQ"
      }
    },
    {
      "cell_type": "code",
      "source": [
        "train_gen_augmanted = ImageDataGenerator(rotation_range=30,\n",
        "                                         zoom_range=0.12,\n",
        "                                         horizontal_flip=True)\n",
        "trainGaug = train_gen_augmanted.flow(X_train,y_train,batch_size=32)\n"
      ],
      "metadata": {
        "id": "gO761ApmuItD"
      },
      "execution_count": null,
      "outputs": []
    },
    {
      "cell_type": "code",
      "source": [
        "history = model.fit_generator(trainGaug,\n",
        "                                  steps_per_epoch=steps_train, \n",
        "                                  epochs=25,\n",
        "                                  validation_data=validG,\n",
        "                                  validation_steps=steps_validate,\n",
        "                                  verbose=1,\n",
        "                                  shuffle = 1)"
      ],
      "metadata": {
        "colab": {
          "base_uri": "https://localhost:8080/"
        },
        "id": "y1mSbuxzwBEp",
        "outputId": "446b1d40-dbde-4985-ac49-eddd6c4314a5"
      },
      "execution_count": null,
      "outputs": [
        {
          "output_type": "stream",
          "name": "stderr",
          "text": [
            "/usr/local/lib/python3.7/dist-packages/ipykernel_launcher.py:7: UserWarning: `Model.fit_generator` is deprecated and will be removed in a future version. Please use `Model.fit`, which supports generators.\n",
            "  import sys\n"
          ]
        },
        {
          "output_type": "stream",
          "name": "stdout",
          "text": [
            "Epoch 1/25\n",
            "62/62 [==============================] - 63s 1s/step - loss: 3.8500 - accuracy: 0.0376 - val_loss: 3.6066 - val_accuracy: 0.0509\n",
            "Epoch 2/25\n",
            "62/62 [==============================] - 63s 1s/step - loss: 3.5995 - accuracy: 0.0579 - val_loss: 3.5236 - val_accuracy: 0.0926\n",
            "Epoch 3/25\n",
            "62/62 [==============================] - 63s 1s/step - loss: 3.4977 - accuracy: 0.0920 - val_loss: 3.2918 - val_accuracy: 0.1343\n",
            "Epoch 4/25\n",
            "62/62 [==============================] - 64s 1s/step - loss: 3.3374 - accuracy: 0.1123 - val_loss: 2.9420 - val_accuracy: 0.2222\n",
            "Epoch 5/25\n",
            "62/62 [==============================] - 63s 1s/step - loss: 2.9822 - accuracy: 0.1794 - val_loss: 2.0501 - val_accuracy: 0.3843\n",
            "Epoch 6/25\n",
            "62/62 [==============================] - 63s 1s/step - loss: 2.3635 - accuracy: 0.3455 - val_loss: 1.1498 - val_accuracy: 0.6759\n",
            "Epoch 7/25\n",
            "62/62 [==============================] - 67s 1s/step - loss: 1.6030 - accuracy: 0.5295 - val_loss: 0.7124 - val_accuracy: 0.7917\n",
            "Epoch 8/25\n",
            "62/62 [==============================] - 63s 1s/step - loss: 1.1665 - accuracy: 0.6499 - val_loss: 0.5934 - val_accuracy: 0.8287\n",
            "Epoch 9/25\n",
            "62/62 [==============================] - 66s 1s/step - loss: 0.9185 - accuracy: 0.7251 - val_loss: 0.3102 - val_accuracy: 0.9028\n",
            "Epoch 10/25\n",
            "62/62 [==============================] - 64s 1s/step - loss: 0.7527 - accuracy: 0.7779 - val_loss: 0.4147 - val_accuracy: 0.8750\n",
            "Epoch 11/25\n",
            "62/62 [==============================] - 64s 1s/step - loss: 0.5829 - accuracy: 0.8308 - val_loss: 0.3198 - val_accuracy: 0.9074\n",
            "Epoch 12/25\n",
            "62/62 [==============================] - 66s 1s/step - loss: 0.4919 - accuracy: 0.8582 - val_loss: 0.2691 - val_accuracy: 0.9213\n",
            "Epoch 13/25\n",
            "62/62 [==============================] - 62s 1s/step - loss: 0.3982 - accuracy: 0.8709 - val_loss: 0.2646 - val_accuracy: 0.9398\n",
            "Epoch 14/25\n",
            "62/62 [==============================] - 62s 1s/step - loss: 0.3815 - accuracy: 0.8887 - val_loss: 0.3076 - val_accuracy: 0.9259\n",
            "Epoch 15/25\n",
            "62/62 [==============================] - 62s 1s/step - loss: 0.3047 - accuracy: 0.9126 - val_loss: 0.1426 - val_accuracy: 0.9676\n",
            "Epoch 16/25\n",
            "62/62 [==============================] - 62s 1s/step - loss: 0.3336 - accuracy: 0.8963 - val_loss: 0.1722 - val_accuracy: 0.9491\n",
            "Epoch 17/25\n",
            "62/62 [==============================] - 62s 1s/step - loss: 0.2991 - accuracy: 0.9106 - val_loss: 0.1510 - val_accuracy: 0.9491\n",
            "Epoch 18/25\n",
            "62/62 [==============================] - 62s 1000ms/step - loss: 0.2930 - accuracy: 0.9136 - val_loss: 0.1590 - val_accuracy: 0.9583\n",
            "Epoch 19/25\n",
            "62/62 [==============================] - 62s 1s/step - loss: 0.2422 - accuracy: 0.9355 - val_loss: 0.3484 - val_accuracy: 0.9074\n",
            "Epoch 20/25\n",
            "62/62 [==============================] - 62s 999ms/step - loss: 0.2108 - accuracy: 0.9355 - val_loss: 0.1773 - val_accuracy: 0.9444\n",
            "Epoch 21/25\n",
            "62/62 [==============================] - 64s 1s/step - loss: 0.2161 - accuracy: 0.9345 - val_loss: 0.2005 - val_accuracy: 0.9444\n",
            "Epoch 22/25\n",
            "62/62 [==============================] - 62s 999ms/step - loss: 0.2099 - accuracy: 0.9329 - val_loss: 0.2277 - val_accuracy: 0.9259\n",
            "Epoch 23/25\n",
            "62/62 [==============================] - 62s 998ms/step - loss: 0.1946 - accuracy: 0.9375 - val_loss: 0.1453 - val_accuracy: 0.9583\n",
            "Epoch 24/25\n",
            "62/62 [==============================] - 62s 999ms/step - loss: 0.1643 - accuracy: 0.9451 - val_loss: 0.0702 - val_accuracy: 0.9815\n",
            "Epoch 25/25\n",
            "62/62 [==============================] - 62s 1s/step - loss: 0.1396 - accuracy: 0.9558 - val_loss: 0.0946 - val_accuracy: 0.9722\n"
          ]
        }
      ]
    },
    {
      "cell_type": "markdown",
      "source": [
        "#Best fit with **augmented** images"
      ],
      "metadata": {
        "id": "y59nOx1fXUUv"
      }
    },
    {
      "cell_type": "code",
      "source": [
        "plt.plot(history.history['val_loss'])\n",
        "plt.plot(history.history['loss'])\n",
        "\n",
        "plt.legend(['training_Loss','Val_Loss'])\n",
        "plt.title('Loss')\n",
        "plt.xlabel('epochs')"
      ],
      "metadata": {
        "id": "btAaGiRawhGs",
        "outputId": "66dac361-3bc3-4de2-e03c-598576849d5f",
        "colab": {
          "base_uri": "https://localhost:8080/",
          "height": 314
        }
      },
      "execution_count": null,
      "outputs": [
        {
          "output_type": "execute_result",
          "data": {
            "text/plain": [
              "Text(0.5, 0, 'epochs')"
            ]
          },
          "metadata": {},
          "execution_count": 31
        },
        {
          "output_type": "display_data",
          "data": {
            "text/plain": [
              "<Figure size 432x288 with 1 Axes>"
            ],
            "image/png": "[encoded data removed]"
          },
          "metadata": {
            "needs_background": "light"
          }
        }
      ]
    },
    {
      "cell_type": "code",
      "source": [
        "plt.plot(history.history['accuracy'])\n",
        "plt.plot(history.history['val_accuracy'])\n",
        "plt.legend(['training_accuracy','Val_accuracy'])\n",
        "plt.title('accuracy')\n",
        "plt.xlabel('epochs')"
      ],
      "metadata": {
        "id": "gaEJ9V-X3Po-",
        "outputId": "46b67431-235f-403f-f109-7f421f73b65a",
        "colab": {
          "base_uri": "https://localhost:8080/",
          "height": 314
        }
      },
      "execution_count": null,
      "outputs": [
        {
          "output_type": "execute_result",
          "data": {
            "text/plain": [
              "Text(0.5, 0, 'epochs')"
            ]
          },
          "metadata": {},
          "execution_count": 32
        },
        {
          "output_type": "display_data",
          "data": {
            "text/plain": [
              "<Figure size 432x288 with 1 Axes>"
            ],
            "image/png": "[encoded data removed]"
          },
          "metadata": {
            "needs_background": "light"
          }
        }
      ]
    },
    {
      "cell_type": "code",
      "source": [
        "test_loss, test_acc = model.evaluate(X_test,y_test, verbose=2)"
      ],
      "metadata": {
        "id": "b2oYLZCF8JNz",
        "outputId": "89dd64a0-b819-425f-a550-0a52b2fe8a65",
        "colab": {
          "base_uri": "https://localhost:8080/"
        }
      },
      "execution_count": null,
      "outputs": [
        {
          "output_type": "stream",
          "name": "stdout",
          "text": [
            "8/8 - 2s - loss: 0.1348 - accuracy: 0.9757 - 2s/epoch - 309ms/step\n"
          ]
        }
      ]
    }
  ]
}