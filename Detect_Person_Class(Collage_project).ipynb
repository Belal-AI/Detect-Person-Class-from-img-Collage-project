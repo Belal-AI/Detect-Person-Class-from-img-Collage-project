{
  "nbformat": 4,
  "nbformat_minor": 0,
  "metadata": {
    "colab": {
      "name": "Detect-Person-Class(Collage project).ipynb",
      "provenance": [],
      "include_colab_link": true
    },
    "kernelspec": {
      "name": "python3",
      "display_name": "Python 3"
    },
    "language_info": {
      "name": "python"
    },
    "accelerator": "TPU"
  },
  "cells": [
    {
      "cell_type": "markdown",
      "metadata": {
        "id": "view-in-github",
        "colab_type": "text"
      },
      "source": [
        "<a href=\"https://colab.research.google.com/github/FSDAwaesf/Detect-Person-Class-from-img-Collage-project/blob/main/Detect_Person_Class(Collage_project).ipynb\" target=\"_parent\"><img src=\"https://colab.research.google.com/assets/colab-badge.svg\" alt=\"Open In Colab\"/></a>"
      ]
    },
    {
      "cell_type": "code",
      "execution_count": null,
      "metadata": {
        "id": "SeVSZpwSp0tm"
      },
      "outputs": [],
      "source": [
        "import numpy as np\n",
        "import pandas as pd\n",
        "import os\n",
        "import random \n",
        "import matplotlib.pyplot as plt\n",
        "import seaborn as sns\n",
        "from sklearn.model_selection import train_test_split\n",
        "import cv2\n"
      ]
    },
    {
      "cell_type": "code",
      "source": [
        "data_path = '/content/drive/MyDrive/Faces data/CroppedYale'\n",
        "len(os.listdir(data_path))"
      ],
      "metadata": {
        "colab": {
          "base_uri": "https://localhost:8080/"
        },
        "id": "xMzMIIXXkmBz",
        "outputId": "44facda1-f015-4889-f47b-e21196acc26f"
      },
      "execution_count": null,
      "outputs": [
        {
          "output_type": "execute_result",
          "data": {
            "text/plain": [
              "38"
            ]
          },
          "metadata": {},
          "execution_count": 2
        }
      ]
    },
    {
      "cell_type": "markdown",
      "source": [
        "#adding imgs to list with it's labels"
      ],
      "metadata": {
        "id": "p-TUQbFbt8GB"
      }
    },
    {
      "cell_type": "code",
      "source": [
        "def read_img(path):\n",
        "  files_names = os.listdir(path) \n",
        "  imgs = []\n",
        "  target = []\n",
        "  for i in files_names:\n",
        "    for j in os.listdir(path+'/'+i):\n",
        "      if '.pgm' in j:\n",
        "        img = cv2.imread(path+'/'+i+'/'+j)\n",
        "        imgs.append(img)\n",
        "        target.append(i)\n",
        "  return imgs,target"
      ],
      "metadata": {
        "id": "kgwGEU0qqgeu"
      },
      "execution_count": null,
      "outputs": []
    },
    {
      "cell_type": "markdown",
      "source": [
        "#X ==> Images\n",
        "#y ==> labels"
      ],
      "metadata": {
        "id": "vyeaVt623EBX"
      }
    },
    {
      "cell_type": "code",
      "source": [
        "from sklearn.model_selection import train_test_split\n",
        "X,y = read_img(data_path)\n"
      ],
      "metadata": {
        "id": "gSowRGo1rxpI"
      },
      "execution_count": null,
      "outputs": []
    },
    {
      "cell_type": "code",
      "source": [
        "X = np.array(X)\n",
        "y = np.array(y).reshape(-1,1)"
      ],
      "metadata": {
        "id": "bo9HuY_1-F5_",
        "colab": {
          "base_uri": "https://localhost:8080/"
        },
        "outputId": "9f746d1b-a74c-4dfa-9aef-c15d349aedbd"
      },
      "execution_count": null,
      "outputs": [
        {
          "output_type": "stream",
          "name": "stderr",
          "text": [
            "/usr/local/lib/python3.7/dist-packages/ipykernel_launcher.py:1: VisibleDeprecationWarning: Creating an ndarray from ragged nested sequences (which is a list-or-tuple of lists-or-tuples-or ndarrays with different lengths or shapes) is deprecated. If you meant to do this, you must specify 'dtype=object' when creating the ndarray.\n",
            "  \"\"\"Entry point for launching an IPython kernel.\n"
          ]
        }
      ]
    },
    {
      "cell_type": "markdown",
      "source": [
        "#all images(192,168)"
      ],
      "metadata": {
        "id": "atIEwIyM3JxH"
      }
    },
    {
      "cell_type": "code",
      "source": [
        "def resize_images(images):\n",
        "  imgs = []\n",
        "  images1 = np.asarray(images)\n",
        "  for i in images1:\n",
        "    img = cv2.resize(i,(168, 192))\n",
        "    imgs.append(img)\n",
        "\n",
        "  return imgs"
      ],
      "metadata": {
        "id": "_pdCBxJQ0R1L"
      },
      "execution_count": null,
      "outputs": []
    },
    {
      "cell_type": "code",
      "source": [
        "images = resize_images(X)\n",
        "images[1].shape"
      ],
      "metadata": {
        "id": "h4HCjx662pVe",
        "colab": {
          "base_uri": "https://localhost:8080/"
        },
        "outputId": "98444591-4062-4900-962d-8f24491c895a"
      },
      "execution_count": null,
      "outputs": [
        {
          "output_type": "execute_result",
          "data": {
            "text/plain": [
              "(192, 168, 3)"
            ]
          },
          "metadata": {},
          "execution_count": 7
        }
      ]
    },
    {
      "cell_type": "code",
      "source": [
        "plt.imshow(X[20])"
      ],
      "metadata": {
        "id": "K5dlsFszr0n9",
        "outputId": "24c974e8-880c-4aa7-aaa9-8786cc423d82",
        "colab": {
          "base_uri": "https://localhost:8080/",
          "height": 286
        }
      },
      "execution_count": null,
      "outputs": [
        {
          "output_type": "execute_result",
          "data": {
            "text/plain": [
              "<matplotlib.image.AxesImage at 0x7f4f24302810>"
            ]
          },
          "metadata": {},
          "execution_count": 8
        },
        {
          "output_type": "display_data",
          "data": {
            "text/plain": [
              "<Figure size 432x288 with 1 Axes>"
            ],
            "image/png": "[encoded data removed]"
          },
          "metadata": {
            "needs_background": "light"
          }
        }
      ]
    },
    {
      "cell_type": "code",
      "source": [
        "X_train, X_test, y_train, y_test =train_test_split(images,y,test_size=0.1,shuffle=True,random_state=1)\n",
        "X_train = np.array(X_train)\n",
        "X_test = np.array(X_test)\n",
        "y_train = np.array(y_train)\n",
        "y_test = np.array(y_test)"
      ],
      "metadata": {
        "id": "7TRALN1Y-xqx"
      },
      "execution_count": null,
      "outputs": []
    },
    {
      "cell_type": "code",
      "source": [
        "X_train.shape"
      ],
      "metadata": {
        "colab": {
          "base_uri": "https://localhost:8080/"
        },
        "id": "329J4QUfDJoo",
        "outputId": "dbb34eb6-226d-4c26-b2e7-3f71184b5e32"
      },
      "execution_count": null,
      "outputs": [
        {
          "output_type": "execute_result",
          "data": {
            "text/plain": [
              "(2223, 192, 168, 3)"
            ]
          },
          "metadata": {},
          "execution_count": 10
        }
      ]
    },
    {
      "cell_type": "code",
      "source": [
        "y_train"
      ],
      "metadata": {
        "colab": {
          "base_uri": "https://localhost:8080/"
        },
        "id": "C4itmT8E_q8T",
        "outputId": "166c26aa-237c-4aa0-8687-a0f16776b8d4"
      },
      "execution_count": null,
      "outputs": [
        {
          "output_type": "execute_result",
          "data": {
            "text/plain": [
              "array([['yaleB13'],\n",
              "       ['yaleB10'],\n",
              "       ['yaleB12'],\n",
              "       ...,\n",
              "       ['yaleB12'],\n",
              "       ['yaleB08'],\n",
              "       ['yaleB12']], dtype='<U7')"
            ]
          },
          "metadata": {},
          "execution_count": 11
        }
      ]
    },
    {
      "cell_type": "markdown",
      "source": [
        "#CNN Model 1 ( without augmentation)"
      ],
      "metadata": {
        "id": "mWyzivh05pTu"
      }
    },
    {
      "cell_type": "code",
      "source": [
        "from tensorflow.keras import Sequential\n",
        "from tensorflow.keras.layers import Dense,Conv2D,Dropout,Activation,MaxPool2D,Flatten"
      ],
      "metadata": {
        "id": "1STtNY4i4jyx"
      },
      "execution_count": null,
      "outputs": []
    },
    {
      "cell_type": "code",
      "source": [
        "model=Sequential()\n",
        "model.add(Conv2D(filters=16,kernel_size=(3,3),activation='relu',input_shape=(192,168,3)))\n",
        "model.add(MaxPool2D((2,2)))\n",
        "model.add(Conv2D(32,(3,3),activation='relu'))\n",
        "model.add(MaxPool2D((2,2)))\n",
        "model.add(Conv2D(64,(3,3),activation='relu'))\n",
        "model.add(MaxPool2D((2,2)))\n",
        "model.add(Flatten())\n",
        "model.add(Dense(64,activation='relu'))\n",
        "\n",
        "model.add(Dense(units=38,activation='softmax'))\n",
        "model.summary()"
      ],
      "metadata": {
        "id": "q0NQ7gwW63Nh",
        "outputId": "b7adddd5-df0a-4349-8e8b-e262768c24b5",
        "colab": {
          "base_uri": "https://localhost:8080/"
        }
      },
      "execution_count": null,
      "outputs": [
        {
          "output_type": "stream",
          "name": "stdout",
          "text": [
            "Model: \"sequential\"\n",
            "_________________________________________________________________\n",
            " Layer (type)                Output Shape              Param #   \n",
            "=================================================================\n",
            " conv2d (Conv2D)             (None, 190, 166, 16)      448       \n",
            "                                                                 \n",
            " max_pooling2d (MaxPooling2D  (None, 95, 83, 16)       0         \n",
            " )                                                               \n",
            "                                                                 \n",
            " conv2d_1 (Conv2D)           (None, 93, 81, 32)        4640      \n",
            "                                                                 \n",
            " max_pooling2d_1 (MaxPooling  (None, 46, 40, 32)       0         \n",
            " 2D)                                                             \n",
            "                                                                 \n",
            " conv2d_2 (Conv2D)           (None, 44, 38, 64)        18496     \n",
            "                                                                 \n",
            " max_pooling2d_2 (MaxPooling  (None, 22, 19, 64)       0         \n",
            " 2D)                                                             \n",
            "                                                                 \n",
            " flatten (Flatten)           (None, 26752)             0         \n",
            "                                                                 \n",
            " dense (Dense)               (None, 64)                1712192   \n",
            "                                                                 \n",
            " dense_1 (Dense)             (None, 38)                2470      \n",
            "                                                                 \n",
            "=================================================================\n",
            "Total params: 1,738,246\n",
            "Trainable params: 1,738,246\n",
            "Non-trainable params: 0\n",
            "_________________________________________________________________\n"
          ]
        }
      ]
    },
    {
      "cell_type": "code",
      "source": [
        "model.compile(optimizer='rmsprop',loss='categorical_crossentropy',metrics=['accuracy'])"
      ],
      "metadata": {
        "id": "Nboo0snF7UIn"
      },
      "execution_count": null,
      "outputs": []
    },
    {
      "cell_type": "code",
      "source": [
        "from tensorflow.keras.preprocessing.image import ImageDataGenerator"
      ],
      "metadata": {
        "id": "4l38XWZi9u8G"
      },
      "execution_count": null,
      "outputs": []
    },
    {
      "cell_type": "code",
      "source": [
        "from sklearn.preprocessing import LabelEncoder\n",
        "lb = LabelEncoder()\n",
        "y_train = lb.fit_transform(y_train)\n",
        "y_test = lb.fit_transform(y_test)"
      ],
      "metadata": {
        "colab": {
          "base_uri": "https://localhost:8080/"
        },
        "id": "qkou_qhzTT9D",
        "outputId": "f7045153-51d3-468b-cbc3-c07c32e20449"
      },
      "execution_count": null,
      "outputs": [
        {
          "output_type": "stream",
          "name": "stderr",
          "text": [
            "/usr/local/lib/python3.7/dist-packages/sklearn/preprocessing/_label.py:115: DataConversionWarning: A column-vector y was passed when a 1d array was expected. Please change the shape of y to (n_samples, ), for example using ravel().\n",
            "  y = column_or_1d(y, warn=True)\n"
          ]
        }
      ]
    },
    {
      "cell_type": "code",
      "source": [
        "from tensorflow.keras.utils import to_categorical\n",
        "y_train = to_categorical(y_train)\n",
        "y_test = to_categorical(y_test)\n",
        "\n",
        "y_test.shape"
      ],
      "metadata": {
        "colab": {
          "base_uri": "https://localhost:8080/"
        },
        "id": "I6JXTdbzUaTs",
        "outputId": "48115c54-5d3c-4165-9df5-f2e354b14185"
      },
      "execution_count": null,
      "outputs": [
        {
          "output_type": "execute_result",
          "data": {
            "text/plain": [
              "(247, 38)"
            ]
          },
          "metadata": {},
          "execution_count": 17
        }
      ]
    },
    {
      "cell_type": "code",
      "source": [
        "X_train.shape"
      ],
      "metadata": {
        "colab": {
          "base_uri": "https://localhost:8080/"
        },
        "id": "AtI0W68qGWk4",
        "outputId": "05f8b1b6-b53d-4c02-e419-1bfa3c521a7f"
      },
      "execution_count": null,
      "outputs": [
        {
          "output_type": "execute_result",
          "data": {
            "text/plain": [
              "(2223, 192, 168, 3)"
            ]
          },
          "metadata": {},
          "execution_count": 18
        }
      ]
    },
    {
      "cell_type": "code",
      "source": [
        "train_gen = ImageDataGenerator()\n",
        "valid_gen = ImageDataGenerator()"
      ],
      "metadata": {
        "id": "OEQw3t-F-TkP"
      },
      "execution_count": null,
      "outputs": []
    },
    {
      "cell_type": "code",
      "source": [
        "X_train, X_valid, y_train, y_valid =train_test_split(X_train,y_train,test_size=0.1,shuffle=True,random_state=1)\n",
        "X_valid.shape"
      ],
      "metadata": {
        "id": "vSw0BpJNQ-t7",
        "colab": {
          "base_uri": "https://localhost:8080/"
        },
        "outputId": "33ed1c3c-536f-4caa-9d0c-923b377791e5"
      },
      "execution_count": null,
      "outputs": [
        {
          "output_type": "execute_result",
          "data": {
            "text/plain": [
              "(223, 192, 168, 3)"
            ]
          },
          "metadata": {},
          "execution_count": 20
        }
      ]
    },
    {
      "cell_type": "code",
      "source": [
        "trainG = train_gen.flow(X_train,y_train,batch_size=10)\n",
        "validG = valid_gen.flow(X_valid,y_valid,batch_size=5)"
      ],
      "metadata": {
        "id": "T1Gbhk5jJe03"
      },
      "execution_count": null,
      "outputs": []
    },
    {
      "cell_type": "code",
      "source": [
        "steps_train = int(len(X_train)/10)\n",
        "steps_validate = int(len(X_valid)/5)"
      ],
      "metadata": {
        "id": "RnlJ540jyFNo"
      },
      "execution_count": null,
      "outputs": []
    },
    {
      "cell_type": "code",
      "source": [
        "history = model.fit_generator(trainG,\n",
        "                                  steps_per_epoch=steps_train, \n",
        "                                  epochs=10,\n",
        "                                  validation_data=validG,\n",
        "                                  validation_steps=steps_validate,\n",
        "                                  verbose=1,\n",
        "                                  shuffle = 1)"
      ],
      "metadata": {
        "id": "Y3f4-b_o-b2r",
        "outputId": "e2bfb6b3-da28-4a19-e150-8aac428ea898",
        "colab": {
          "base_uri": "https://localhost:8080/"
        }
      },
      "execution_count": null,
      "outputs": [
        {
          "output_type": "stream",
          "name": "stdout",
          "text": [
            "Epoch 1/10\n"
          ]
        },
        {
          "output_type": "stream",
          "name": "stderr",
          "text": [
            "/usr/local/lib/python3.7/dist-packages/ipykernel_launcher.py:7: UserWarning: `Model.fit_generator` is deprecated and will be removed in a future version. Please use `Model.fit`, which supports generators.\n",
            "  import sys\n"
          ]
        },
        {
          "output_type": "stream",
          "name": "stdout",
          "text": [
            "200/200 [==============================] - 60s 292ms/step - loss: 7.1564 - accuracy: 0.3205 - val_loss: 1.3024 - val_accuracy: 0.6455\n",
            "Epoch 2/10\n",
            "200/200 [==============================] - 58s 290ms/step - loss: 0.7379 - accuracy: 0.8620 - val_loss: 0.3273 - val_accuracy: 0.8955\n",
            "Epoch 3/10\n",
            "200/200 [==============================] - 58s 290ms/step - loss: 0.4345 - accuracy: 0.9335 - val_loss: 0.1880 - val_accuracy: 0.9636\n",
            "Epoch 4/10\n",
            "200/200 [==============================] - 58s 291ms/step - loss: 0.2833 - accuracy: 0.9575 - val_loss: 0.1940 - val_accuracy: 0.9409\n",
            "Epoch 5/10\n",
            "200/200 [==============================] - 58s 291ms/step - loss: 0.1904 - accuracy: 0.9745 - val_loss: 0.5055 - val_accuracy: 0.9318\n",
            "Epoch 6/10\n",
            "200/200 [==============================] - 58s 290ms/step - loss: 0.1329 - accuracy: 0.9790 - val_loss: 0.2453 - val_accuracy: 0.9500\n",
            "Epoch 7/10\n",
            "200/200 [==============================] - 58s 290ms/step - loss: 0.1407 - accuracy: 0.9770 - val_loss: 0.2902 - val_accuracy: 0.9727\n",
            "Epoch 8/10\n",
            "200/200 [==============================] - 58s 290ms/step - loss: 0.1556 - accuracy: 0.9825 - val_loss: 0.4804 - val_accuracy: 0.9591\n",
            "Epoch 9/10\n",
            "200/200 [==============================] - 58s 288ms/step - loss: 0.1310 - accuracy: 0.9875 - val_loss: 0.4518 - val_accuracy: 0.9409\n",
            "Epoch 10/10\n",
            "200/200 [==============================] - 58s 290ms/step - loss: 0.1472 - accuracy: 0.9840 - val_loss: 0.6189 - val_accuracy: 0.9455\n"
          ]
        }
      ]
    },
    {
      "cell_type": "code",
      "source": [
        "plt.plot(history.history['loss'])\n",
        "plt.plot(history.history['val_loss'])\n",
        "plt.legend(['training_Loss','Val_Loss'])\n",
        "plt.title('Loss')\n",
        "plt.xlabel('epochs')"
      ],
      "metadata": {
        "id": "ZI-oBfcKMs0X",
        "colab": {
          "base_uri": "https://localhost:8080/",
          "height": 312
        },
        "outputId": "60409706-e47b-4ef4-83e6-e9b3399e164b"
      },
      "execution_count": null,
      "outputs": [
        {
          "output_type": "execute_result",
          "data": {
            "text/plain": [
              "Text(0.5, 0, 'epochs')"
            ]
          },
          "metadata": {},
          "execution_count": 24
        },
        {
          "output_type": "display_data",
          "data": {
            "text/plain": [
              "<Figure size 432x288 with 1 Axes>"
            ],
            "image/png": "[encoded data removed]"
          },
          "metadata": {
            "needs_background": "light"
          }
        }
      ]
    },
    {
      "cell_type": "code",
      "source": [
        "plt.plot(history.history['accuracy'])\n",
        "plt.plot(history.history['val_accuracy'])\n",
        "plt.legend(['training_accuracy','Val_accuracy'])\n",
        "plt.title('accuracy')\n",
        "plt.xlabel('epochs')"
      ],
      "metadata": {
        "colab": {
          "base_uri": "https://localhost:8080/",
          "height": 312
        },
        "id": "9yKdqWfyNMg6",
        "outputId": "eee8264b-77bb-4448-b833-e7a128266a01"
      },
      "execution_count": null,
      "outputs": [
        {
          "output_type": "execute_result",
          "data": {
            "text/plain": [
              "Text(0.5, 0, 'epochs')"
            ]
          },
          "metadata": {},
          "execution_count": 25
        },
        {
          "output_type": "display_data",
          "data": {
            "text/plain": [
              "<Figure size 432x288 with 1 Axes>"
            ],
            "image/png": "[encoded data removed]"
          },
          "metadata": {
            "needs_background": "light"
          }
        }
      ]
    }
  ]
}